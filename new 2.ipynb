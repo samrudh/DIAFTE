{
 "cells": [
  {
   "cell_type": "code",
   "execution_count": 20,
   "metadata": {},
   "outputs": [],
   "source": [
    "import os\n",
    "import folium\n",
    "import pandas as pd\n"
   ]
  },
  {
   "cell_type": "code",
   "execution_count": 44,
   "metadata": {},
   "outputs": [],
   "source": [
    "def style_function(feature):\n",
    "    return {\n",
    "        'fillColor': '#ffaf00',\n",
    "        'color': 'blue',\n",
    "        'weight': 1.5,\n",
    "        'dashArray': '5, 5'\n",
    "    }\n",
    "\n",
    "\n",
    "def highlight_function(feature):\n",
    "    return {\n",
    "        'fillColor': '#ffaf00',\n",
    "        'color': 'green',\n",
    "        'weight': 3,\n",
    "        'dashArray': '5, 5'\n",
    "    }\n",
    "\n",
    "def umap(fromCity,fromTuple,toCity,toTuple):\n",
    "    x1,y1=fromTuple\n",
    "    x2,y2=toTuple\n",
    "    d = {'dep': [fromCity], 'dest': [toCity],'geojson':str({\"type\": \"LineString\",\"coordinates\": [[y1,x1], [y2,x2]]})}\n",
    "    df = pd.DataFrame(d)\n",
    "    df['geojson']=df['geojson'].apply(lambda x : eval(x))\n",
    "    \n",
    "    m = folium.Map(\n",
    "    location=[20, 10],\n",
    "    zoom_start=2.5,\n",
    "    control_scale=True,\n",
    "    prefer_canvas=True\n",
    "    )\n",
    "\n",
    "    for index, row in df.iterrows():\n",
    "        c = folium.GeoJson(\n",
    "            row['geojson'],\n",
    "            name=('{}{}'.format(row['dep'], row['dest'])),\n",
    "            overlay=True,\n",
    "            style_function=style_function,\n",
    "            highlight_function=highlight_function\n",
    "        )\n",
    "        folium.Popup('{}\\n{}'.format(row['dep'], row['dest'])).add_to(c)\n",
    "        c.add_to(m)\n",
    "    folium.Marker(\n",
    "        location=[x1,y1],\n",
    "        popup='Origin: '+fromCity,\n",
    "    ).add_to(m)\n",
    "    folium.Marker(\n",
    "        location=[x2,y2],\n",
    "        popup='Destination: '+toCity,\n",
    "    ).add_to(m)\n",
    "\n",
    "\n",
    "    folium.LayerControl().add_to(m)\n",
    "    m.save('Highlight_Function.html')\n",
    "\n",
    "    return m\n",
    "\n",
    "\n",
    "# df = pd.DataFrame(53.3497645 -6.2602732)\n",
    "# {\n",
    "#     \"type\": \"LineString\", \n",
    "#     \"coordinates\": [\n",
    "#         [30, 10], [10, 30], [40, 40]\n",
    "#     ]\n",
    "# }\n",
    "# Dublin, County Dublin, Leinster, Ireland\n",
    "# 53.3497645\n",
    "# -6.2602732\n",
    "# Singapore, Central, 178957, Singapore\n",
    "# 1.2904753\n",
    "# 103.8520359"
   ]
  },
  {
   "cell_type": "code",
   "execution_count": null,
   "metadata": {},
   "outputs": [],
   "source": []
  },
  {
   "cell_type": "markdown",
   "metadata": {},
   "source": [
    "Let us take a glance at the data.\n",
    "Each row represents the trajectory of a flight,\n",
    "and the last column contains the coordinates of the flight path in `GeoJSON` format."
   ]
  },
  {
   "cell_type": "code",
   "execution_count": 45,
   "metadata": {},
   "outputs": [
    {
     "data": {
      "text/html": [
       "<div style=\"width:100%;\"><div style=\"position:relative;width:100%;height:0;padding-bottom:60%;\"><iframe src=\"data:text/html;charset=utf-8;base64,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\" style=\"position:absolute;width:100%;height:100%;left:0;top:0;border:none !important;\" allowfullscreen webkitallowfullscreen mozallowfullscreen></iframe></div></div>"
      ],
      "text/plain": [
       "<folium.folium.Map at 0x1f643d1a048>"
      ]
     },
     "execution_count": 45,
     "metadata": {},
     "output_type": "execute_result"
    }
   ],
   "source": [
    "\n",
    "m = umap('dublin',(53.3497645,-6.2602732),'singapore',(1.2904753,103.8520359))\n",
    "m"
   ]
  },
  {
   "cell_type": "code",
   "execution_count": null,
   "metadata": {},
   "outputs": [],
   "source": []
  },
  {
   "cell_type": "code",
   "execution_count": null,
   "metadata": {},
   "outputs": [],
   "source": []
  },
  {
   "cell_type": "code",
   "execution_count": null,
   "metadata": {},
   "outputs": [],
   "source": []
  },
  {
   "cell_type": "code",
   "execution_count": null,
   "metadata": {},
   "outputs": [],
   "source": []
  }
 ],
 "metadata": {
  "kernelspec": {
   "display_name": "Python 3",
   "language": "python",
   "name": "python3"
  },
  "language_info": {
   "codemirror_mode": {
    "name": "ipython",
    "version": 3
   },
   "file_extension": ".py",
   "mimetype": "text/x-python",
   "name": "python",
   "nbconvert_exporter": "python",
   "pygments_lexer": "ipython3",
   "version": "3.6.4"
  }
 },
 "nbformat": 4,
 "nbformat_minor": 2
}
