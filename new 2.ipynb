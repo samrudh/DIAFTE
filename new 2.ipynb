{
 "cells": [
  {
   "cell_type": "code",
   "execution_count": 1,
   "metadata": {},
   "outputs": [
    {
     "name": "stdout",
     "output_type": "stream",
     "text": [
      "0.5.0\n"
     ]
    }
   ],
   "source": [
    "import os\n",
    "import folium\n",
    "\n",
    "print(folium.__version__)"
   ]
  },
  {
   "cell_type": "code",
   "execution_count": 2,
   "metadata": {},
   "outputs": [],
   "source": [
    "import pandas as pd\n",
    "\n",
    "d = {'dep': ['Dublin'], 'dest': ['Singapore'],'geojson':str({\"type\": \"LineString\",\"coordinates\": [[-6.2602732,53.3497645 ], [103.8520359,1.2904753]]})}\n",
    "df = pd.DataFrame(d)\n",
    "\n",
    "# df = pd.DataFrame(53.3497645 -6.2602732)\n",
    "# {\n",
    "#     \"type\": \"LineString\", \n",
    "#     \"coordinates\": [\n",
    "#         [30, 10], [10, 30], [40, 40]\n",
    "#     ]\n",
    "# }\n",
    "# Dublin, County Dublin, Leinster, Ireland\n",
    "# 53.3497645\n",
    "# -6.2602732\n",
    "# Singapore, Central, 178957, Singapore\n",
    "# 1.2904753\n",
    "# 103.8520359"
   ]
  },
  {
   "cell_type": "markdown",
   "metadata": {},
   "source": [
    "Let us take a glance at the data.\n",
    "Each row represents the trajectory of a flight,\n",
    "and the last column contains the coordinates of the flight path in `GeoJSON` format."
   ]
  },
  {
   "cell_type": "code",
   "execution_count": 3,
   "metadata": {},
   "outputs": [],
   "source": [
    "df['geojson']=df['geojson'].apply(lambda x : eval(x))"
   ]
  },
  {
   "cell_type": "code",
   "execution_count": 6,
   "metadata": {},
   "outputs": [
    {
     "data": {
      "text/html": [
       "<div style=\"width:100%;\"><div style=\"position:relative;width:100%;height:0;padding-bottom:60%;\"><iframe src=\"data:text/html;charset=utf-8;base64,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\" style=\"position:absolute;width:100%;height:100%;left:0;top:0;border:none !important;\" allowfullscreen webkitallowfullscreen mozallowfullscreen></iframe></div></div>"
      ],
      "text/plain": [
       "<folium.folium.Map at 0x2035d93fc50>"
      ]
     },
     "execution_count": 6,
     "metadata": {},
     "output_type": "execute_result"
    }
   ],
   "source": [
    "m = folium.Map(\n",
    "    location=[40, 10],\n",
    "    zoom_start=4,\n",
    "    control_scale=True,\n",
    "    prefer_canvas=True\n",
    ")\n",
    "\n",
    "\n",
    "def style_function(feature):\n",
    "    return {\n",
    "        'fillColor': '#ffaf00',\n",
    "        'color': 'blue',\n",
    "        'weight': 1.5,\n",
    "        'dashArray': '5, 5'\n",
    "    }\n",
    "\n",
    "\n",
    "def highlight_function(feature):\n",
    "    return {\n",
    "        'fillColor': '#ffaf00',\n",
    "        'color': 'green',\n",
    "        'weight': 3,\n",
    "        'dashArray': '5, 5'\n",
    "    }\n",
    "\n",
    "\n",
    "for index, row in df.iterrows():\n",
    "    c = folium.GeoJson(\n",
    "        row['geojson'],\n",
    "        name=('{}{}'.format(row['dep'], row['dest'])),\n",
    "        overlay=True,\n",
    "        style_function=style_function,\n",
    "        highlight_function=highlight_function\n",
    "    )\n",
    "    folium.Popup('{}\\n{}'.format(row['dep'], row['dest'])).add_to(c)\n",
    "    c.add_to(m)\n",
    "folium.Marker(\n",
    "    location=[53.3497645,-6.2602732],\n",
    "    popup='Origin',\n",
    ").add_to(m)\n",
    "folium.Marker(\n",
    "    location=[1.2904753,103.8520359],\n",
    "    popup='Destination',\n",
    ").add_to(m)\n",
    "\n",
    "\n",
    "folium.LayerControl().add_to(m)\n",
    "m.save('Highlight_Function.html')\n",
    "\n",
    "m\n"
   ]
  },
  {
   "cell_type": "code",
   "execution_count": null,
   "metadata": {},
   "outputs": [],
   "source": []
  },
  {
   "cell_type": "code",
   "execution_count": null,
   "metadata": {},
   "outputs": [],
   "source": []
  }
 ],
 "metadata": {
  "kernelspec": {
   "display_name": "Python 3",
   "language": "python",
   "name": "python3"
  },
  "language_info": {
   "codemirror_mode": {
    "name": "ipython",
    "version": 3
   },
   "file_extension": ".py",
   "mimetype": "text/x-python",
   "name": "python",
   "nbconvert_exporter": "python",
   "pygments_lexer": "ipython3",
   "version": "3.6.4"
  }
 },
 "nbformat": 4,
 "nbformat_minor": 2
}
