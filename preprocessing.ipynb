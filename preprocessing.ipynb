{
 "cells": [
  {
   "cell_type": "code",
   "execution_count": 1,
   "metadata": {},
   "outputs": [],
   "source": [
    "from mt103 import MT103\n",
    "import re\n",
    "from datetime import date\n",
    "# mt103 = MT103(\"some-mt-103-string\")\n",
    "# print(\"basic header: {}, bank op code: {}, complete message: {}\".format(\n",
    "#     mt103.basic_header,\n",
    "#     mt103.text.bank_operation_code,\n",
    "#     mt103\n",
    "# ))\n",
    "\n",
    "\n"
   ]
  },
  {
   "cell_type": "code",
   "execution_count": 2,
   "metadata": {},
   "outputs": [],
   "source": [
    "s='{1:F01DBSSSGSGAXXX6690637685}{2:O1031522170418SCBLSGSGBXXX12492735141704181609N}{4::20:XXXXXXXXXXX:23B:CRED:32A:170418SGD78,23:33B:SGD78,23:50K:/XXXXXXXXXXXIG ASIA P L-CLIENTSA/C9 BATTERY ROAD,01-02 STRAITS TRADING BUILDING,SINGAPORE,049910/SINGAPORE:52A:XXXXXXXXXXX:57A:XXXXXXXXXXX:59:/XXXXXXXXXXXSai Choong Lee:71A:OUR-}'"
   ]
  },
  {
   "cell_type": "code",
   "execution_count": 3,
   "metadata": {},
   "outputs": [],
   "source": [
    "m1 = re.search('1:(.+?)}', s).group(1)\n",
    "m2 = re.search('2:(.+?)}', s).group(1)\n",
    "m3 = re.search('20:(.+?):', s).group(1)\n",
    "m4 = re.search('23B:(.+?):', s).group(1)\n",
    "m5 = re.search('32A:(.+?):', s).group(1)\n",
    "m6 = re.search('33B:(.+?):', s).group(1)\n",
    "m7 = re.search('50K:(.+?):', s).group(1)\n",
    "m8 = re.search('52A:(.+?):', s).group(1)\n",
    "m9 = re.search('57A:(.+?):', s).group(1)\n",
    "m10 = re.search('59:(.+?):', s).group(1)\n",
    "m11 = re.search('71A:(.+?)}', s).group(1)\n"
   ]
  },
  {
   "cell_type": "code",
   "execution_count": 4,
   "metadata": {},
   "outputs": [
    {
     "name": "stdout",
     "output_type": "stream",
     "text": [
      "F01DBSSSGSGAXXX6690637685 O1031522170418SCBLSGSGBXXX12492735141704181609N XXXXXXXXXXX CRED 170418SGD78,23 SGD78,23 /XXXXXXXXXXXIG ASIA P L-CLIENTSA/C9 BATTERY ROAD,01-02 STRAITS TRADING BUILDING,SINGAPORE,049910/SINGAPORE XXXXXXXXXXX XXXXXXXXXXX /XXXXXXXXXXXSai Choong Lee OUR-\n"
     ]
    }
   ],
   "source": [
    "print(m1,m2,m3,m4,m5,m6,m7,m8,m9,m10,m11)"
   ]
  },
  {
   "cell_type": "code",
   "execution_count": 5,
   "metadata": {},
   "outputs": [],
   "source": [
    "# print(m)"
   ]
  },
  {
   "cell_type": "code",
   "execution_count": 6,
   "metadata": {},
   "outputs": [
    {
     "name": "stdout",
     "output_type": "stream",
     "text": [
      "DBSSSGSGAXX\n",
      "DBSS\n",
      "AXX\n",
      "SG\n",
      "SG\n",
      "None\n"
     ]
    }
   ],
   "source": [
    "from schwifty import BIC\n",
    "s=m1[3:14]\n",
    "print(s)\n",
    "bic = BIC('DBSSSGSGAXX')\n",
    "# PBNKDEFFXXX\n",
    "# DBSSSGSGAXXX\n",
    "# SCBLSGSGBXXX\n",
    "# YOURCODEZABC – The Logical Terminal Address – which is typically your BIC 8 (YOURCODE) + Logical Terminal Code (Z) + Branch Code\n",
    "print(bic.bank_code)\n",
    "print(bic.branch_code)\n",
    "print(bic.country_code)\n",
    "print(bic.location_code)\n",
    "print(bic.country_bank_code)\n"
   ]
  },
  {
   "cell_type": "code",
   "execution_count": 7,
   "metadata": {},
   "outputs": [
    {
     "name": "stdout",
     "output_type": "stream",
     "text": [
      "ABFMSGS1\n"
     ]
    }
   ],
   "source": [
    "import json\n",
    "from pprint import pprint\n",
    "\n",
    "# with open('SwiftCodes-master\\AllCountries\\'+bic.country_code+'.json') as data_file:    \n",
    "#     data = json.load(data_file)\n",
    "# pprint(data)\n",
    "q='SwiftCodes/AllCountries/' + bic.country_code + '.json' \n",
    "with open(q, encoding='utf-8') as data_file:\n",
    "    data = json.loads(data_file.read())\n",
    "print(data['list'][0]['swift_code'])\n"
   ]
  },
  {
   "cell_type": "code",
   "execution_count": 8,
   "metadata": {},
   "outputs": [],
   "source": [
    "# DE80640901000001234567\n",
    "# DBSSSGSGAXXX6690637685\n",
    "# DBSSSGSGA0006690637685"
   ]
  },
  {
   "cell_type": "code",
   "execution_count": null,
   "metadata": {},
   "outputs": [],
   "source": []
  },
  {
   "cell_type": "code",
   "execution_count": 9,
   "metadata": {},
   "outputs": [],
   "source": [
    "import pandas as pd\n",
    "\n",
    "from pandas.io.json import json_normalize "
   ]
  },
  {
   "cell_type": "code",
   "execution_count": 14,
   "metadata": {},
   "outputs": [
    {
     "name": "stdout",
     "output_type": "stream",
     "text": [
      "Empty DataFrame\n",
      "Columns: [l_bank, l_branch, l_city, l_id, l_swift_code, id, bank, city, branch, swift_code]\n",
      "Index: []\n"
     ]
    }
   ],
   "source": [
    "with open('SwiftCodes/AllCountries/' + bic.country_code + '.json') as data_file:    \n",
    "    data = json.load(data_file)  \n",
    "\n"
   ]
  },
  {
   "cell_type": "code",
   "execution_count": 15,
   "metadata": {},
   "outputs": [
    {
     "data": {
      "text/html": [
       "<div>\n",
       "<style scoped>\n",
       "    .dataframe tbody tr th:only-of-type {\n",
       "        vertical-align: middle;\n",
       "    }\n",
       "\n",
       "    .dataframe tbody tr th {\n",
       "        vertical-align: top;\n",
       "    }\n",
       "\n",
       "    .dataframe thead th {\n",
       "        text-align: right;\n",
       "    }\n",
       "</style>\n",
       "<table border=\"1\" class=\"dataframe\">\n",
       "  <thead>\n",
       "    <tr style=\"text-align: right;\">\n",
       "      <th></th>\n",
       "      <th>l_bank</th>\n",
       "      <th>l_branch</th>\n",
       "      <th>l_city</th>\n",
       "      <th>l_id</th>\n",
       "      <th>l_swift_code</th>\n",
       "      <th>id</th>\n",
       "      <th>bank</th>\n",
       "      <th>city</th>\n",
       "      <th>branch</th>\n",
       "      <th>swift_code</th>\n",
       "    </tr>\n",
       "  </thead>\n",
       "  <tbody>\n",
       "    <tr>\n",
       "      <th>0</th>\n",
       "      <td>ABERDEEN ASSET MANAGEMENT ASIA LIMITED</td>\n",
       "      <td>None</td>\n",
       "      <td>SINGAPORE</td>\n",
       "      <td>1</td>\n",
       "      <td>ABFMSGS1</td>\n",
       "      <td>NaN</td>\n",
       "      <td>NaN</td>\n",
       "      <td>NaN</td>\n",
       "      <td>NaN</td>\n",
       "      <td>NaN</td>\n",
       "    </tr>\n",
       "    <tr>\n",
       "      <th>1</th>\n",
       "      <td>ABN AMRO BANK N.V. SINGAPORE BRANCH</td>\n",
       "      <td>(COMMERCIAL AND MERCHANT BANKING)</td>\n",
       "      <td>SINGAPORE</td>\n",
       "      <td>2</td>\n",
       "      <td>ABNASG2ACMB</td>\n",
       "      <td>NaN</td>\n",
       "      <td>NaN</td>\n",
       "      <td>NaN</td>\n",
       "      <td>NaN</td>\n",
       "      <td>NaN</td>\n",
       "    </tr>\n",
       "    <tr>\n",
       "      <th>2</th>\n",
       "      <td>ABN AMRO BANK N.V. SINGAPORE BRANCH</td>\n",
       "      <td>(INTERNATIONAL PRIVATE CLIENTS DEPARTMENT)</td>\n",
       "      <td>SINGAPORE</td>\n",
       "      <td>3</td>\n",
       "      <td>ABNASG2AIPC</td>\n",
       "      <td>NaN</td>\n",
       "      <td>NaN</td>\n",
       "      <td>NaN</td>\n",
       "      <td>NaN</td>\n",
       "      <td>NaN</td>\n",
       "    </tr>\n",
       "    <tr>\n",
       "      <th>3</th>\n",
       "      <td>ABN AMRO BANK N.V. SINGAPORE BRANCH</td>\n",
       "      <td>None</td>\n",
       "      <td>SINGAPORE</td>\n",
       "      <td>4</td>\n",
       "      <td>ABNASG2A</td>\n",
       "      <td>NaN</td>\n",
       "      <td>NaN</td>\n",
       "      <td>NaN</td>\n",
       "      <td>NaN</td>\n",
       "      <td>NaN</td>\n",
       "    </tr>\n",
       "    <tr>\n",
       "      <th>4</th>\n",
       "      <td>ABN AMRO CLEARING BANK N.V.</td>\n",
       "      <td>None</td>\n",
       "      <td>SINGAPORE</td>\n",
       "      <td>5</td>\n",
       "      <td>ABNCSGSG</td>\n",
       "      <td>NaN</td>\n",
       "      <td>NaN</td>\n",
       "      <td>NaN</td>\n",
       "      <td>NaN</td>\n",
       "      <td>NaN</td>\n",
       "    </tr>\n",
       "  </tbody>\n",
       "</table>\n",
       "</div>"
      ],
      "text/plain": [
       "                                   l_bank  \\\n",
       "0  ABERDEEN ASSET MANAGEMENT ASIA LIMITED   \n",
       "1     ABN AMRO BANK N.V. SINGAPORE BRANCH   \n",
       "2     ABN AMRO BANK N.V. SINGAPORE BRANCH   \n",
       "3     ABN AMRO BANK N.V. SINGAPORE BRANCH   \n",
       "4             ABN AMRO CLEARING BANK N.V.   \n",
       "\n",
       "                                     l_branch     l_city  l_id l_swift_code  \\\n",
       "0                                        None  SINGAPORE     1     ABFMSGS1   \n",
       "1           (COMMERCIAL AND MERCHANT BANKING)  SINGAPORE     2  ABNASG2ACMB   \n",
       "2  (INTERNATIONAL PRIVATE CLIENTS DEPARTMENT)  SINGAPORE     3  ABNASG2AIPC   \n",
       "3                                        None  SINGAPORE     4     ABNASG2A   \n",
       "4                                        None  SINGAPORE     5     ABNCSGSG   \n",
       "\n",
       "   id  bank  city  branch  swift_code  \n",
       "0 NaN   NaN   NaN     NaN         NaN  \n",
       "1 NaN   NaN   NaN     NaN         NaN  \n",
       "2 NaN   NaN   NaN     NaN         NaN  \n",
       "3 NaN   NaN   NaN     NaN         NaN  \n",
       "4 NaN   NaN   NaN     NaN         NaN  "
      ]
     },
     "execution_count": 15,
     "metadata": {},
     "output_type": "execute_result"
    }
   ],
   "source": [
    "df = json_normalize(data, 'list', ['id', 'bank', 'city','branch','swift_code'], errors='ignore', record_prefix='l_')\n",
    "df[:5]"
   ]
  },
  {
   "cell_type": "code",
   "execution_count": 16,
   "metadata": {},
   "outputs": [
    {
     "data": {
      "text/plain": [
       "(880, 10)"
      ]
     },
     "execution_count": 16,
     "metadata": {},
     "output_type": "execute_result"
    }
   ],
   "source": [
    "df.shape"
   ]
  },
  {
   "cell_type": "code",
   "execution_count": 17,
   "metadata": {},
   "outputs": [],
   "source": [
    "df = df[df['l_swift_code'].str.contains(bic.bank_code)]"
   ]
  },
  {
   "cell_type": "code",
   "execution_count": 18,
   "metadata": {},
   "outputs": [
    {
     "data": {
      "text/plain": [
       "(5, 10)"
      ]
     },
     "execution_count": 18,
     "metadata": {},
     "output_type": "execute_result"
    }
   ],
   "source": [
    "df.shape"
   ]
  },
  {
   "cell_type": "code",
   "execution_count": 19,
   "metadata": {},
   "outputs": [
    {
     "data": {
      "text/html": [
       "<div>\n",
       "<style scoped>\n",
       "    .dataframe tbody tr th:only-of-type {\n",
       "        vertical-align: middle;\n",
       "    }\n",
       "\n",
       "    .dataframe tbody tr th {\n",
       "        vertical-align: top;\n",
       "    }\n",
       "\n",
       "    .dataframe thead th {\n",
       "        text-align: right;\n",
       "    }\n",
       "</style>\n",
       "<table border=\"1\" class=\"dataframe\">\n",
       "  <thead>\n",
       "    <tr style=\"text-align: right;\">\n",
       "      <th></th>\n",
       "      <th>l_bank</th>\n",
       "      <th>l_branch</th>\n",
       "      <th>l_city</th>\n",
       "      <th>l_id</th>\n",
       "      <th>l_swift_code</th>\n",
       "      <th>id</th>\n",
       "      <th>bank</th>\n",
       "      <th>city</th>\n",
       "      <th>branch</th>\n",
       "      <th>swift_code</th>\n",
       "    </tr>\n",
       "  </thead>\n",
       "  <tbody>\n",
       "    <tr>\n",
       "      <th>416</th>\n",
       "      <td>DBS BANK LTD.</td>\n",
       "      <td>(DERIVATIVES OPERATION DEPARTMENT)</td>\n",
       "      <td>SINGAPORE</td>\n",
       "      <td>417</td>\n",
       "      <td>DBSSSGSGDOD</td>\n",
       "      <td>NaN</td>\n",
       "      <td>NaN</td>\n",
       "      <td>NaN</td>\n",
       "      <td>NaN</td>\n",
       "      <td>NaN</td>\n",
       "    </tr>\n",
       "    <tr>\n",
       "      <th>417</th>\n",
       "      <td>DBS BANK LTD.</td>\n",
       "      <td>(INVESTMENT BANKING DEPARTMENT)</td>\n",
       "      <td>SINGAPORE</td>\n",
       "      <td>418</td>\n",
       "      <td>DBSSSGSGIBD</td>\n",
       "      <td>NaN</td>\n",
       "      <td>NaN</td>\n",
       "      <td>NaN</td>\n",
       "      <td>NaN</td>\n",
       "      <td>NaN</td>\n",
       "    </tr>\n",
       "    <tr>\n",
       "      <th>418</th>\n",
       "      <td>DBS BANK LTD.</td>\n",
       "      <td>(LA REP OFFICE)</td>\n",
       "      <td>SINGAPORE</td>\n",
       "      <td>419</td>\n",
       "      <td>DBSSSGSGLAO</td>\n",
       "      <td>NaN</td>\n",
       "      <td>NaN</td>\n",
       "      <td>NaN</td>\n",
       "      <td>NaN</td>\n",
       "      <td>NaN</td>\n",
       "    </tr>\n",
       "    <tr>\n",
       "      <th>419</th>\n",
       "      <td>DBS BANK LTD.</td>\n",
       "      <td>(PCG - PRIVATE BANKING DEPARTMENT)</td>\n",
       "      <td>SINGAPORE</td>\n",
       "      <td>420</td>\n",
       "      <td>DBSSSGSGPCG</td>\n",
       "      <td>NaN</td>\n",
       "      <td>NaN</td>\n",
       "      <td>NaN</td>\n",
       "      <td>NaN</td>\n",
       "      <td>NaN</td>\n",
       "    </tr>\n",
       "    <tr>\n",
       "      <th>420</th>\n",
       "      <td>DBS BANK LTD.</td>\n",
       "      <td>None</td>\n",
       "      <td>SINGAPORE</td>\n",
       "      <td>421</td>\n",
       "      <td>DBSSSGSG</td>\n",
       "      <td>NaN</td>\n",
       "      <td>NaN</td>\n",
       "      <td>NaN</td>\n",
       "      <td>NaN</td>\n",
       "      <td>NaN</td>\n",
       "    </tr>\n",
       "  </tbody>\n",
       "</table>\n",
       "</div>"
      ],
      "text/plain": [
       "            l_bank                            l_branch     l_city  l_id  \\\n",
       "416  DBS BANK LTD.  (DERIVATIVES OPERATION DEPARTMENT)  SINGAPORE   417   \n",
       "417  DBS BANK LTD.     (INVESTMENT BANKING DEPARTMENT)  SINGAPORE   418   \n",
       "418  DBS BANK LTD.                     (LA REP OFFICE)  SINGAPORE   419   \n",
       "419  DBS BANK LTD.  (PCG - PRIVATE BANKING DEPARTMENT)  SINGAPORE   420   \n",
       "420  DBS BANK LTD.                                None  SINGAPORE   421   \n",
       "\n",
       "    l_swift_code  id  bank  city  branch  swift_code  \n",
       "416  DBSSSGSGDOD NaN   NaN   NaN     NaN         NaN  \n",
       "417  DBSSSGSGIBD NaN   NaN   NaN     NaN         NaN  \n",
       "418  DBSSSGSGLAO NaN   NaN   NaN     NaN         NaN  \n",
       "419  DBSSSGSGPCG NaN   NaN   NaN     NaN         NaN  \n",
       "420     DBSSSGSG NaN   NaN   NaN     NaN         NaN  "
      ]
     },
     "execution_count": 19,
     "metadata": {},
     "output_type": "execute_result"
    }
   ],
   "source": [
    "df"
   ]
  },
  {
   "cell_type": "code",
   "execution_count": null,
   "metadata": {},
   "outputs": [],
   "source": [
    "q=pd.read_json('SwiftCodes/AllCountries/' + bic.country_code + '.json',orient='records')\n",
    "# x=q['list'].to_json(orient='split')\n",
    "# z=pd.read_json(x)\n",
    "q"
   ]
  },
  {
   "cell_type": "code",
   "execution_count": null,
   "metadata": {},
   "outputs": [],
   "source": [
    "if q['list'].str.contains('ABERDEEN ASSET').any():\n",
    "    print (\"Mel is there\")\n",
    "# print(q)"
   ]
  },
  {
   "cell_type": "code",
   "execution_count": null,
   "metadata": {},
   "outputs": [],
   "source": []
  }
 ],
 "metadata": {
  "kernelspec": {
   "display_name": "Python 3",
   "language": "python",
   "name": "python3"
  },
  "language_info": {
   "codemirror_mode": {
    "name": "ipython",
    "version": 3
   },
   "file_extension": ".py",
   "mimetype": "text/x-python",
   "name": "python",
   "nbconvert_exporter": "python",
   "pygments_lexer": "ipython3",
   "version": "3.6.5"
  }
 },
 "nbformat": 4,
 "nbformat_minor": 2
}
