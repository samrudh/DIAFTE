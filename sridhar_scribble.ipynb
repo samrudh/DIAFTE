{
 "cells": [
  {
   "cell_type": "code",
   "execution_count": 119,
   "metadata": {},
   "outputs": [],
   "source": [
    "from geopy.geocoders import Nominatim\n",
    "geolocator = Nominatim()\n",
    "location = geolocator.geocode('mumbai')"
   ]
  },
  {
   "cell_type": "code",
   "execution_count": 97,
   "metadata": {},
   "outputs": [
    {
     "data": {
      "text/plain": [
       "19.1334321"
      ]
     },
     "execution_count": 97,
     "metadata": {},
     "output_type": "execute_result"
    }
   ],
   "source": [
    "location.latitude"
   ]
  },
  {
   "cell_type": "code",
   "execution_count": 37,
   "metadata": {},
   "outputs": [
    {
     "data": {
      "text/plain": [
       "100.5166936"
      ]
     },
     "execution_count": 37,
     "metadata": {},
     "output_type": "execute_result"
    }
   ],
   "source": [
    "location.longitude"
   ]
  },
  {
   "cell_type": "code",
   "execution_count": 31,
   "metadata": {},
   "outputs": [],
   "source": [
    "import re\n",
    "def clean_beneficiary(x):\n",
    "   return re.sub('[\\n]+',' ',re.sub('/[X]*[\\n]*','',x))\n"
   ]
  },
  {
   "cell_type": "code",
   "execution_count": 32,
   "metadata": {},
   "outputs": [
    {
     "data": {
      "text/plain": [
       "' AGODA COMPANY PTE LTD 9999,27TH FL,THE OFFICES AT CENTRAL WORLD,RAMA 1RD,PATUMWAN, BANGKOK 10330 THAILAND'"
      ]
     },
     "execution_count": 32,
     "metadata": {},
     "output_type": "execute_result"
    }
   ],
   "source": [
    "s='''\n",
    "\n",
    "\n",
    "\n",
    "AGODA COMPANY PTE LTD\n",
    "\n",
    "\n",
    "\n",
    "999/9,27TH FL,THE OFFICES AT\n",
    "\n",
    "\n",
    "\n",
    "CENTRAL WORLD,RAMA 1RD,PATUMWAN,\n",
    "\n",
    "\n",
    "\n",
    "BANGKOK 10330 THAILAND'''\n",
    "q=clean_beneficiary(s)\n",
    "q"
   ]
  },
  {
   "cell_type": "code",
   "execution_count": null,
   "metadata": {},
   "outputs": [],
   "source": []
  },
  {
   "cell_type": "code",
   "execution_count": null,
   "metadata": {},
   "outputs": [],
   "source": []
  },
  {
   "cell_type": "code",
   "execution_count": 157,
   "metadata": {},
   "outputs": [
    {
     "data": {
      "text/plain": [
       "0               LES ESCALDES\n",
       "1         ESCALDES-ENGORDANY\n",
       "2           ANDORRA LA VELLA\n",
       "9                      DUBAI\n",
       "12                 ABU DHABI\n",
       "30                     AJMAN\n",
       "60                    AL AIN\n",
       "72                  FUJAIRAH\n",
       "73            RAS AL KHAIMAH\n",
       "74                   SHARJAH\n",
       "208           UMM AL QAIWAIN\n",
       "447                    KABUL\n",
       "453                    HERAT\n",
       "467               ST. JOHN'S\n",
       "474                 COOLIDGE\n",
       "484               THE VALLEY\n",
       "488                   TIRANA\n",
       "491                  ELBASAN\n",
       "492              GJIROKASTRA\n",
       "493                    KORCE\n",
       "494                  LUSHNJE\n",
       "495                  SHKODER\n",
       "507                   DURRES\n",
       "510                     FIER\n",
       "512                   KAVAJE\n",
       "514                    LEZHE\n",
       "520                    VLORE\n",
       "533                  YEREVAN\n",
       "553                   LUANDA\n",
       "558                   HUAMBO\n",
       "                 ...        \n",
       "112510               GAUTENG\n",
       "112524            ROODEPOORT\n",
       "112544              VLAEBERG\n",
       "112558            CONSTANTIA\n",
       "112560               ARCADIA\n",
       "112570             SOUTHDALE\n",
       "112573          MULDERSDRIFT\n",
       "112587              LA MERCY\n",
       "112589             BELLVILLE\n",
       "112592                BENONI\n",
       "112602               VINCENT\n",
       "112604              MELVILLE\n",
       "112760           SUNNINGHILL\n",
       "112763               RIVONIA\n",
       "112769             UITENHAGE\n",
       "112773                LUSAKA\n",
       "112780                 KITWE\n",
       "112789                 NDOLA\n",
       "112803               CHIPATA\n",
       "112804                KASAMA\n",
       "112805           LIVINGSTONE\n",
       "112807                 MANSA\n",
       "112808                 MONGU\n",
       "112810               SOLWEZI\n",
       "112826                HARARE\n",
       "112861              BULAWAYO\n",
       "112873              CHINHOYI\n",
       "112874                 GWERU\n",
       "112876                MUTARE\n",
       "112890              Zimbabwe\n",
       "Length: 16505, dtype: object"
      ]
     },
     "execution_count": 157,
     "metadata": {},
     "output_type": "execute_result"
    }
   ],
   "source": [
    "import glob   \n",
    "import pandas as pd\n",
    "import json\n",
    "from pandas.io.json import json_normalize\n",
    "master=pd.DataFrame()\n",
    "path = 'data/SwiftCodes/AllCountries/*.json'   \n",
    "files=glob.glob(path)   \n",
    "for file in files: \n",
    "    with open(file) as data_file:    \n",
    "        data = json.load(data_file)\n",
    "#         print(data)\n",
    "        df = json_normalize(data, 'list', ['country','city'], errors='ignore', record_prefix='l_')\n",
    "        master=master.append(df)\n",
    "master=master[['l_city','country']]\n",
    "master=master.astype('str')\n",
    "master=master['l_city'].append(df['country']).reset_index(drop=True)\n",
    "master.drop_duplicates(inplace=True)\n",
    "master.astype('str')\n"
   ]
  },
  {
   "cell_type": "code",
   "execution_count": 161,
   "metadata": {},
   "outputs": [],
   "source": [
    "import pickle\n",
    "def writePickle(var, filename):\n",
    "    with open(filename, 'wb') as f:  # Python 3: open(..., 'wb')\n",
    "        pickle.dump(var, f)\n",
    "        return\n",
    " \n",
    "def readPickle(filename):\n",
    "    with open(filename, 'rb') as f:  # Python 3: open(..., 'rb')\n",
    "        return pickle.load(f)\n"
   ]
  },
  {
   "cell_type": "code",
   "execution_count": 164,
   "metadata": {},
   "outputs": [
    {
     "ename": "FileNotFoundError",
     "evalue": "[Errno 2] No such file or directory: '\\\\data\\\\master.pkl'",
     "output_type": "error",
     "traceback": [
      "\u001b[1;31m---------------------------------------------------------------------------\u001b[0m",
      "\u001b[1;31mFileNotFoundError\u001b[0m                         Traceback (most recent call last)",
      "\u001b[1;32m<ipython-input-164-ec1709a22e29>\u001b[0m in \u001b[0;36m<module>\u001b[1;34m()\u001b[0m\n\u001b[1;32m----> 1\u001b[1;33m \u001b[0mwritePickle\u001b[0m\u001b[1;33m(\u001b[0m\u001b[1;33m[\u001b[0m\u001b[0mmaster\u001b[0m\u001b[1;33m]\u001b[0m\u001b[1;33m,\u001b[0m\u001b[1;34m'\\data\\master.pkl'\u001b[0m\u001b[1;33m)\u001b[0m\u001b[1;33m\u001b[0m\u001b[0m\n\u001b[0m",
      "\u001b[1;32m<ipython-input-161-9ce9f46f5a08>\u001b[0m in \u001b[0;36mwritePickle\u001b[1;34m(var, filename)\u001b[0m\n\u001b[0;32m      1\u001b[0m \u001b[1;32mimport\u001b[0m \u001b[0mpickle\u001b[0m\u001b[1;33m\u001b[0m\u001b[0m\n\u001b[0;32m      2\u001b[0m \u001b[1;32mdef\u001b[0m \u001b[0mwritePickle\u001b[0m\u001b[1;33m(\u001b[0m\u001b[0mvar\u001b[0m\u001b[1;33m,\u001b[0m \u001b[0mfilename\u001b[0m\u001b[1;33m)\u001b[0m\u001b[1;33m:\u001b[0m\u001b[1;33m\u001b[0m\u001b[0m\n\u001b[1;32m----> 3\u001b[1;33m     \u001b[1;32mwith\u001b[0m \u001b[0mopen\u001b[0m\u001b[1;33m(\u001b[0m\u001b[0mfilename\u001b[0m\u001b[1;33m,\u001b[0m \u001b[1;34m'wb'\u001b[0m\u001b[1;33m)\u001b[0m \u001b[1;32mas\u001b[0m \u001b[0mf\u001b[0m\u001b[1;33m:\u001b[0m  \u001b[1;31m# Python 3: open(..., 'wb')\u001b[0m\u001b[1;33m\u001b[0m\u001b[0m\n\u001b[0m\u001b[0;32m      4\u001b[0m         \u001b[0mpickle\u001b[0m\u001b[1;33m.\u001b[0m\u001b[0mdump\u001b[0m\u001b[1;33m(\u001b[0m\u001b[0mvar\u001b[0m\u001b[1;33m,\u001b[0m \u001b[0mf\u001b[0m\u001b[1;33m)\u001b[0m\u001b[1;33m\u001b[0m\u001b[0m\n\u001b[0;32m      5\u001b[0m         \u001b[1;32mreturn\u001b[0m\u001b[1;33m\u001b[0m\u001b[0m\n",
      "\u001b[1;31mFileNotFoundError\u001b[0m: [Errno 2] No such file or directory: '\\\\data\\\\master.pkl'"
     ]
    }
   ],
   "source": [
    "writePickle([master],'\\data\\master.pkl')"
   ]
  },
  {
   "cell_type": "code",
   "execution_count": 158,
   "metadata": {},
   "outputs": [],
   "source": [
    "def mat(st,ma):\n",
    "    raw = st.split()\n",
    "    ya=set(raw).intersection(set(ma))\n",
    "    if(bool(ya)):\n",
    "        geolocator = Nominatim()\n",
    "        location = geolocator.geocode(ya)\n",
    "        tup=(location.latitude,location.longitude)\n",
    "        print(location)\n",
    "        print(location.latitude)\n",
    "        print(location.longitude)\n",
    "        return tup,ya\n",
    "    ya='Singapore'\n",
    "    geolocator = Nominatim()\n",
    "    location = geolocator.geocode(ya)\n",
    "    tup=(location.latitude,location.longitude)\n",
    "    print(location)\n",
    "    print(location.latitude)\n",
    "    print(location.longitude)\n",
    "    return tup,ya"
   ]
  },
  {
   "cell_type": "code",
   "execution_count": 160,
   "metadata": {},
   "outputs": [
    {
     "name": "stderr",
     "output_type": "stream",
     "text": [
      "C:\\ProgramData\\Anaconda3\\lib\\site-packages\\IPython\\core\\interactiveshell.py:2785: DtypeWarning: Columns (2) have mixed types. Specify dtype option on import or set low_memory=False.\n",
      "  interactivity=interactivity, compiler=compiler, result=result)\n"
     ]
    },
    {
     "name": "stdout",
     "output_type": "stream",
     "text": [
      "ordering_customer    /XXXXXXXXXXX\\r\\n\\r\\nALLIANZ WORLDWIDE CARE SA ...\n",
      "beneficiary                     /XXXXXXXXXXX\\r\\n\\r\\nSUBODH S. NADKARNI\n",
      "Name: 0, dtype: object\n",
      "Dublin, County Dublin, Leinster, Ireland\n",
      "53.3497645\n",
      "-6.2602732\n",
      "Singapore, Central, 178957, Singapore\n",
      "1.2904753\n",
      "103.8520359\n"
     ]
    }
   ],
   "source": [
    "df=pd.read_csv('data/CSSol-2/whole_train.csv')\n",
    "df=df[['ordering_customer','beneficiary']]\n",
    "df=df.astype('str')\n",
    "row=df.iloc[0]\n",
    "print(row)\n",
    "fromCity,fromTuple=mat(row['ordering_customer'],master)\n",
    "toCity,toTuple=mat(row['beneficiary'],master)\n",
    "# df=df['ordering_customer'].apply(lambda x: mat(x,master))\n",
    "# mat('as',master)"
   ]
  },
  {
   "cell_type": "code",
   "execution_count": null,
   "metadata": {},
   "outputs": [],
   "source": [
    "def "
   ]
  },
  {
   "cell_type": "code",
   "execution_count": 2,
   "metadata": {},
   "outputs": [],
   "source": [
    "import folium\n",
    "mapit = None\n",
    "latlon = [ (51.249443914705175, -0.13878830247011467), (51.249443914705175, -0.13878830247011467), (51.249768239976866, -2.8610415615063034)]\n",
    "for coord in latlon:\n",
    "    mapit = folium.Map( location=[ coord[0], coord[1] ] )\n",
    "\n",
    "mapit.save( 'map.html')"
   ]
  },
  {
   "cell_type": "code",
   "execution_count": null,
   "metadata": {},
   "outputs": [],
   "source": []
  }
 ],
 "metadata": {
  "kernelspec": {
   "display_name": "Python 3",
   "language": "python",
   "name": "python3"
  },
  "language_info": {
   "codemirror_mode": {
    "name": "ipython",
    "version": 3
   },
   "file_extension": ".py",
   "mimetype": "text/x-python",
   "name": "python",
   "nbconvert_exporter": "python",
   "pygments_lexer": "ipython3",
   "version": "3.6.5"
  }
 },
 "nbformat": 4,
 "nbformat_minor": 2
}
